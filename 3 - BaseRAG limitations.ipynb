{
 "cells": [
  {
   "cell_type": "markdown",
   "metadata": {},
   "source": [
    "### Base RAG Weaknesses\n",
    "\n",
    "1. Lacks when the questions are more **meta**\n",
    " - What are the key themes in the document\n",
    "2. Struggles when the questions require specific information from the **entire** document\n",
    " - Who did Alice interact with in the story? \n",
    "3. Needs questions to use **similar** words or concepts to the content of the documents\n",
    " - Show me related products to the savings account\n",
    "   - Could struggle if the names of the related accounts don't have similarity\n",
    "   - i.e. what defines similarity?\n",
    "\n",
    "### Enter the Knowledge Graph\n",
    "\n",
    "What if we could extract knowledge from the document - **entities** and **relationships**, and organise it in such a way that we could ask questions like the ones above, and find meaningful relationships that are scattered throughout the document...\n",
    "\n",
    "\n",
    "Imagine a document that discussed the life and works of Lenoardo Da Vinci...\n"
   ]
  }
 ],
 "metadata": {
  "kernelspec": {
   "display_name": ".NET (C#)",
   "language": "C#",
   "name": ".net-csharp"
  },
  "language_info": {
   "name": "python"
  },
  "polyglot_notebook": {
   "kernelInfo": {
    "defaultKernelName": "csharp",
    "items": [
     {
      "aliases": [],
      "name": "csharp"
     }
    ]
   }
  }
 },
 "nbformat": 4,
 "nbformat_minor": 2
}
