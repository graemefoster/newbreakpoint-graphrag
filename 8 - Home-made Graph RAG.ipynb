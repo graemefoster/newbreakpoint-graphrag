{
 "cells": [
  {
   "cell_type": "code",
   "execution_count": null,
   "metadata": {
    "dotnet_interactive": {
     "language": "csharp"
    },
    "polyglot_notebook": {
     "kernelName": "csharp"
    },
    "vscode": {
     "languageId": "polyglot-notebook"
    }
   },
   "outputs": [],
   "source": [
    "#r \"PoorMansGraphRagQuery/bin/Debug/net8.0/PoorMansGraphRagQuery.dll\"\n",
    "#r \"nuget:Azure.AI.OpenAI, 1.0.0-beta.17\"\n",
    "#r \"nuget:Azure.Identity\""
   ]
  },
  {
   "cell_type": "code",
   "execution_count": 2,
   "metadata": {
    "dotnet_interactive": {
     "language": "csharp"
    },
    "polyglot_notebook": {
     "kernelName": "csharp"
    },
    "vscode": {
     "languageId": "polyglot-notebook"
    }
   },
   "outputs": [],
   "source": [
    "using PoorMansGraphRagQuery;\n",
    "var queryEngine = new PoorMansGraphRagQuery.GraphRagQuery();\n",
    "var userQuery = \"What paintings did Leonardo make? Be exhaustive with the content you're given\";\n",
    "var embeddings = await queryEngine.Embed(userQuery);"
   ]
  },
  {
   "cell_type": "code",
   "execution_count": null,
   "metadata": {
    "dotnet_interactive": {
     "language": "csharp"
    },
    "polyglot_notebook": {
     "kernelName": "csharp"
    },
    "vscode": {
     "languageId": "polyglot-notebook"
    }
   },
   "outputs": [],
   "source": [
    "//Use embeddings to find Starting Entities in the graph. We use Azure AI Search for this\n",
    "var graphStartingEntities = await queryEngine.FindStartingEntitiesFromVectorIndex(userQuery, embeddings);\n",
    "Console.WriteLine(string.Join(Environment.NewLine, graphStartingEntities.Select(x => $\"{x.entity}|{x.type}\")));\n"
   ]
  },
  {
   "cell_type": "code",
   "execution_count": null,
   "metadata": {
    "dotnet_interactive": {
     "language": "csharp"
    },
    "polyglot_notebook": {
     "kernelName": "csharp"
    },
    "vscode": {
     "languageId": "polyglot-notebook"
    }
   },
   "outputs": [],
   "source": [
    "//Use the LLM to work out what entities and relationships might be important\n",
    "var entityAndRelationshipTypesToPursue = await queryEngine.GetEntityAndRelationshipTypesToPursue(userQuery);\n",
    "Console.WriteLine(\"ENTITIES\");\n",
    "Console.WriteLine(string.Join(Environment.NewLine, entityAndRelationshipTypesToPursue.Entities));\n",
    "Console.WriteLine();\n",
    "Console.WriteLine(\"RELATIONSHIPS\");\n",
    "Console.WriteLine(string.Join(Environment.NewLine, entityAndRelationshipTypesToPursue.Relationships));\n"
   ]
  },
  {
   "cell_type": "code",
   "execution_count": null,
   "metadata": {
    "dotnet_interactive": {
     "language": "csharp"
    },
    "polyglot_notebook": {
     "kernelName": "csharp"
    },
    "vscode": {
     "languageId": "polyglot-notebook"
    }
   },
   "outputs": [],
   "source": [
    "//Traverse the graph - find summaries of interesting entities and relationships. Also attach the chunks of the document most relevant\n",
    "var graphRagInfo = await queryEngine.TraverseGraph(graphStartingEntities, entityAndRelationshipTypesToPursue.Relationships, entityAndRelationshipTypesToPursue.Entities);\n",
    "var graphRagChunks = queryEngine.GetChunks(graphRagInfo.chunks);\n",
    "\n",
    "Console.WriteLine(string.Join(Environment.NewLine, graphRagInfo.graphSummaries));"
   ]
  },
  {
   "cell_type": "code",
   "execution_count": null,
   "metadata": {
    "dotnet_interactive": {
     "language": "csharp"
    },
    "polyglot_notebook": {
     "kernelName": "csharp"
    },
    "vscode": {
     "languageId": "polyglot-notebook"
    }
   },
   "outputs": [],
   "source": [
    "//Perform the RAG\n",
    "var graphRagResult = await queryEngine.GraphRag(graphRagInfo.graphSummaries, userQuery);\n",
    "Console.WriteLine($\"TOKENS: PROMPT {graphRagResult.promptTokens}. COMPLETION:{graphRagResult.completionTokens}\");\n",
    "Console.WriteLine(graphRagResult.response);\n"
   ]
  },
  {
   "cell_type": "code",
   "execution_count": null,
   "metadata": {
    "dotnet_interactive": {
     "language": "csharp"
    },
    "polyglot_notebook": {
     "kernelName": "csharp"
    },
    "vscode": {
     "languageId": "polyglot-notebook"
    }
   },
   "outputs": [],
   "source": [
    "//Perform the RAG with the chunks\n",
    "var chunks = queryEngine.GetChunks(graphRagInfo.chunks);\n",
    "var graphRagResult = await queryEngine.GraphRagWithChunks(graphRagInfo.graphSummaries, chunks, userQuery);\n",
    "Console.WriteLine($\"TOKENS: PROMPT {graphRagResult.promptTokens}. COMPLETION:{graphRagResult.completionTokens}\");\n",
    "Console.WriteLine(graphRagResult.response);\n"
   ]
  }
 ],
 "metadata": {
  "kernelspec": {
   "display_name": ".NET (C#)",
   "language": "C#",
   "name": ".net-csharp"
  },
  "language_info": {
   "name": "python"
  },
  "polyglot_notebook": {
   "kernelInfo": {
    "defaultKernelName": "csharp",
    "items": [
     {
      "aliases": [],
      "name": "csharp"
     }
    ]
   }
  }
 },
 "nbformat": 4,
 "nbformat_minor": 2
}
