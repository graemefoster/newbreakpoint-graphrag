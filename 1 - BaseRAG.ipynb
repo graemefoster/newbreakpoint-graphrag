{
 "cells": [
  {
   "cell_type": "markdown",
   "metadata": {},
   "source": [
    "### BaseRAG - In a far away galaxy, a long long time ago... "
   ]
  },
  {
   "cell_type": "code",
   "execution_count": null,
   "metadata": {
    "dotnet_interactive": {
     "language": "csharp"
    },
    "polyglot_notebook": {
     "kernelName": "csharp"
    },
    "vscode": {
     "languageId": "polyglot-notebook"
    }
   },
   "outputs": [],
   "source": [
    "#r \"PoorMansGraphRagQuery/bin/Debug/net8.0/PoorMansGraphRagQuery.dll\"\n",
    "#r \"nuget:Azure.AI.OpenAI, 1.0.0-beta.17\"\n",
    "#r \"nuget:Azure.Identity\"\n"
   ]
  },
  {
   "cell_type": "code",
   "execution_count": 2,
   "metadata": {
    "dotnet_interactive": {
     "language": "csharp"
    },
    "polyglot_notebook": {
     "kernelName": "csharp"
    },
    "vscode": {
     "languageId": "polyglot-notebook"
    }
   },
   "outputs": [],
   "source": [
    "using PoorMansGraphRagQuery;\n",
    "var queryEngine = new PoorMansGraphRagQuery.GraphRagQuery();"
   ]
  },
  {
   "cell_type": "code",
   "execution_count": 3,
   "metadata": {
    "dotnet_interactive": {
     "language": "csharp"
    },
    "polyglot_notebook": {
     "kernelName": "csharp"
    },
    "vscode": {
     "languageId": "polyglot-notebook"
    }
   },
   "outputs": [],
   "source": [
    "\n",
    "var userQuery = \"What paintings did Leonardo make? Be exhaustive with the content you're given\";\n",
    "var embeddings = await queryEngine.Embed(userQuery);\n"
   ]
  },
  {
   "cell_type": "code",
   "execution_count": 4,
   "metadata": {
    "dotnet_interactive": {
     "language": "csharp"
    },
    "polyglot_notebook": {
     "kernelName": "csharp"
    },
    "vscode": {
     "languageId": "polyglot-notebook"
    }
   },
   "outputs": [],
   "source": [
    "var baseRagChunks = await queryEngine.BaseRagChunks(userQuery, embeddings);"
   ]
  },
  {
   "cell_type": "code",
   "execution_count": null,
   "metadata": {
    "dotnet_interactive": {
     "language": "csharp"
    },
    "polyglot_notebook": {
     "kernelName": "csharp"
    },
    "vscode": {
     "languageId": "polyglot-notebook"
    }
   },
   "outputs": [],
   "source": [
    "var chunks = queryEngine.GetChunks(baseRagChunks);\n",
    "var ragResult = await queryEngine.Rag(chunks, userQuery);\n",
    "Console.WriteLine($\"TOKENS: PROMPT {ragResult.promptTokens}. COMPLETION:{ragResult.completionTokens}\");\n",
    "Console.WriteLine(ragResult.response);"
   ]
  }
 ],
 "metadata": {
  "kernelspec": {
   "display_name": ".NET (C#)",
   "language": "C#",
   "name": ".net-csharp"
  },
  "language_info": {
   "name": "python"
  },
  "polyglot_notebook": {
   "kernelInfo": {
    "defaultKernelName": "csharp",
    "items": [
     {
      "aliases": [],
      "name": "csharp"
     }
    ]
   }
  }
 },
 "nbformat": 4,
 "nbformat_minor": 2
}
