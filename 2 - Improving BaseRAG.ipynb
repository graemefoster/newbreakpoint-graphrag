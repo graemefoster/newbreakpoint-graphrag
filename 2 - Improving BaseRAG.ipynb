{
 "cells": [
  {
   "cell_type": "markdown",
   "metadata": {},
   "source": [
    "### Base RAG Strengths\n",
    "\n",
    "1. Simple to understand and use\n",
    "2. Really good when answers are in the chunks\n",
    " - Product Information Sheets\n",
    "    - What is the interest rate on the Starter Savings Account\n",
    " - Simple prose\n",
    "     - Who went out for dinner with Jeff at the Restaurant\n"
   ]
  },
  {
   "cell_type": "markdown",
   "metadata": {},
   "source": [
    "### Improving Base RAG Chunking\n",
    "\n",
    "1. Adding Chapter name into each chunk\n",
    "2. Using overlapping chunks - last 20 words go into the next chunk as-well\n",
    "3. Use Hybrid Search\n",
    "4. Use facets to reduce the search space\n"
   ]
  },
  {
   "cell_type": "markdown",
   "metadata": {},
   "source": [
    "### Improving Base RAG\n",
    "\n",
    "1. Extract more infornmation from the text\n",
    " - Azure Document Intelligence\n",
    " - GPT4o Vision"
   ]
  },
  {
   "cell_type": "code",
   "execution_count": null,
   "metadata": {
    "dotnet_interactive": {
     "language": "mermaid"
    },
    "polyglot_notebook": {
     "kernelName": "mermaid"
    },
    "vscode": {
     "languageId": "polyglot-notebook"
    }
   },
   "outputs": [],
   "source": [
    "timeline\n",
    "    title Base RAG\n",
    "    Chunk 1 : Extract Text\n",
    "            : Extract Images\n",
    "            : Create Embeddings\n",
    "            : Create Index Chunk\n",
    "    Chunk 2 : Extract Text\n",
    "            : Extract Images\n",
    "            : Create Embeddings\n",
    "            : Create Index Chunk\n",
    "    Chunk n : Extract Text\n",
    "            : Extract Images\n",
    "            : Create Embeddings\n",
    "            : Create Index Chunk\n"
   ]
  }
 ],
 "metadata": {
  "kernelspec": {
   "display_name": ".NET (C#)",
   "language": "C#",
   "name": ".net-csharp"
  },
  "language_info": {
   "name": "python"
  },
  "polyglot_notebook": {
   "kernelInfo": {
    "defaultKernelName": "csharp",
    "items": [
     {
      "aliases": [],
      "name": "csharp"
     }
    ]
   }
  }
 },
 "nbformat": 4,
 "nbformat_minor": 2
}
