{
 "cells": [
  {
   "cell_type": "markdown",
   "metadata": {},
   "source": [
    "## Introducing Microsoft Graph RAG\n",
    "\n",
    "*https://github.com/microsoft/graphrag/*\n",
    "\n",
    "```\n",
    "\n",
    "#Install \n",
    "pip install graphrag\n",
    "\n",
    "#Setup your configuration file\n",
    "\n",
    "#Tune the queries that detect entities and relationships\n",
    "python -m graphrag.prompt_tune --config ./settings.yaml\n",
    "\n",
    "#Index your content\n",
    "python -m graphrag.index --root ./ragtest\n",
    "\n",
    "```\n",
    "\n",
    "#### Graph RAG Communities\n",
    "\n",
    "- GraphRAG uses the Leiden Algorthm to detect communities\n",
    "- Communities provide localised summarisation to 'groups' of elements and relationships\n",
    "- These Communities are further rounded up to provide 'Global' summarisation\n",
    "\n",
    "![Communities](https://microsoft.github.io/graphrag/img/GraphRag-Figure1.jpg)"
   ]
  }
 ],
 "metadata": {
  "kernelspec": {
   "display_name": ".NET (C#)",
   "language": "C#",
   "name": ".net-csharp"
  },
  "language_info": {
   "name": "python",
   "version": "3.12.5"
  },
  "polyglot_notebook": {
   "kernelInfo": {
    "defaultKernelName": "csharp",
    "items": [
     {
      "aliases": [],
      "name": "csharp"
     }
    ]
   }
  }
 },
 "nbformat": 4,
 "nbformat_minor": 2
}
