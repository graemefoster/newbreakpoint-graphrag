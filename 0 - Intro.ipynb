{
 "cells": [
  {
   "cell_type": "markdown",
   "metadata": {},
   "source": [
    "### The plan\n",
    "\n",
    "- Base RAG... A recap\n",
    "\n",
    "- Base RAG... Why do we need to change?\n",
    "\n",
    "- The power of Knowledge Graphs\n",
    "\n",
    "- Graph RAG... Concepts and walkthrough\n",
    "\n",
    "- Microsoft Graphg RAG...\n"
   ]
  }
 ],
 "metadata": {
  "kernelspec": {
   "display_name": ".NET (C#)",
   "language": "C#",
   "name": ".net-csharp"
  },
  "language_info": {
   "name": "python"
  },
  "polyglot_notebook": {
   "kernelInfo": {
    "defaultKernelName": "csharp",
    "items": [
     {
      "aliases": [],
      "name": "csharp"
     }
    ]
   }
  }
 },
 "nbformat": 4,
 "nbformat_minor": 2
}
