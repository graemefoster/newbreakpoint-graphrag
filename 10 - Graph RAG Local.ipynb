{
 "cells": [
  {
   "cell_type": "markdown",
   "metadata": {},
   "source": [
    "### Example Output of Graph RAG - Local Query\n",
    "\n",
    "python -m graphrag.query \\\n",
    "--root ./ \\\n",
    "--method local \\\n",
    "\"What paintings did Leonardo make?\"\n",
    "\n",
    "\n",
    "INFO: Vector Store Args: {}\n",
    "creating llm client with {'api_key': 'REDACTED,len=32', 'type': \"azure_openai_chat\", 'model': 'gpt-4o', 'max_tokens': 4000, 'temperature': 0.0, 'top_p': 1.0, 'n': 1, 'request_timeout': 180.0, 'api_base': 'https://aoai.openai.azure.com/', 'api_version': '2024-04-01-preview', 'organization': None, 'proxy': None, 'cognitive_services_endpoint': None, 'deployment_name': 'gpt-4o', 'model_supports_json': True, 'tokens_per_minute': 0, 'requests_per_minute': 30, 'max_retries': 10, 'max_retry_wait': 10.0, 'sleep_on_rate_limit_recommendation': True, 'concurrent_requests': 1}\n",
    "creating embedding llm client with {'api_key': 'REDACTED,len=32', 'type': \"azure_openai_embedding\", 'model': 'text-embedding-ada-002', 'max_tokens': 4000, 'temperature': 0, 'top_p': 1, 'n': 1, 'request_timeout': 180.0, 'api_base': 'https://aoai.openai.azure.com/', 'api_version': '2024-04-01-preview', 'organization': None, 'proxy': None, 'cognitive_services_endpoint': None, 'deployment_name': 'text-embedding-ada-002', 'model_supports_json': None, 'tokens_per_minute': 0, 'requests_per_minute': 60, 'max_retries': 10, 'max_retry_wait': 10.0, 'sleep_on_rate_limit_recommendation': True, 'concurrent_requests': 1}\n",
    "\n",
    "SUCCESS: Local Search Response:\n",
    "Leonardo da Vinci, one of the most celebrated artists of the Renaissance, created numerous masterpieces that have left an indelible mark on the history of art. His works are renowned for their exquisite detail, innovative techniques, and profound impact on the art world. Below is a summary of some of his most notable paintings:\n",
    "\n",
    "### Early Works\n",
    "Leonardo's early works include \"The Annunciation,\" a painting attributed to him and housed in the Uffizi Gallery in Florence [Data: Entities (12); Relationships (6, 83)]. Another early piece is \"A Wide View over a Plain,\" his earliest dated work from January 1473, which is also in the Uffizi [Data: Entities (59); Relationships (157, 86)].\n",
    "\n",
    "### Major Masterpieces\n",
    "1. **The Last Supper**: Painted between 1496 and 1498, this iconic work is located in the refectory of Santa Maria delle Grazie in Milan. It is celebrated for its composition and the emotional depth of its figures [Data: Entities (54); Relationships (103, 170)].\n",
    "2. **Mona Lisa**: Perhaps the most famous painting in the world, the \"Mona Lisa\" is housed in the Louvre Museum in Paris. Known for its enigmatic expression and masterful use of sfumato, it remains a subject of fascination and study [Data: Entities (54); Relationships (78)].\n",
    "3. **The Virgin of the Rocks**: There are two versions of this painting. The earlier, more authentic version is in the Louvre, while a later version is in the National Gallery, London. Both depict the Virgin Mary, the Christ Child, and an angel in a rocky setting [Data: Sources (0)].\n",
    "\n",
    "### Other Notable Works\n",
    "- **The Adoration of the Magi**: An unfinished commission that showcases Leonardo's innovative approach to composition and detail [Data: Relationships (163)].\n",
    "- **The Baptism of Christ**: Leonardo painted one of the attendant angels in this work, which was a collaborative effort with his master, Verrocchio [Data: Relationships (164)].\n",
    "- **The Battle of Anghiari**: Although never completed, this ambitious project was intended to capture a historical battle and remains one of Leonardo's celebrated unfinished masterpieces [Data: Relationships (148)].\n",
    "- **Madonna, the Infant Christ, and Saint Anne**: This painting, created with the help of assistants, is housed in the Louvre and exemplifies Leonardo's mature style [Data: Relationships (183)].\n",
    "\n",
    "### Portraits\n",
    "Leonardo also created several notable portraits, including:\n",
    "- **Portrait of Himself**: A self-portrait in red chalk, located in Turin [Data: Entities (212); Relationships (196, 189)].\n",
    "- **Presumed Portrait of Lucrezia Crivelli**: Officially attributed to Leonardo and housed in the Louvre, this portrait highlights his skill in capturing the essence of his subjects [Data: Entities (24); Relationships (132, 205)].\n",
    "- **Portrait of Isabella d'Este**: A chalk drawing of Isabella d'Este, created during his time in Mantua [Data: Relationships (175, 174)].\n",
    "\n",
    "### Contributions to Art and Science\n",
    "Beyond his paintings, Leonardo made significant contributions to the study of light and shade, known as chiaroscuro, and was a pioneer in various scientific fields. His \"Treatise on Painting,\" begun around 1489-1490, is a celebrated work that encapsulates his theories and practices in art [Data: Entities (107); Relationships (51)].\n",
    "\n",
    "Leonardo's body of work reflects his unparalleled skill and innovative approach to art, making him a pivotal figure in the Renaissance and a lasting influence on subsequent generations of artists."
   ]
  }
 ],
 "metadata": {
  "language_info": {
   "name": "python"
  }
 },
 "nbformat": 4,
 "nbformat_minor": 2
}
