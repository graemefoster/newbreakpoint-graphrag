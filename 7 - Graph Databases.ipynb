{
 "cells": [
  {
   "cell_type": "markdown",
   "metadata": {},
   "source": [
    "### Quick diversion - neo4j Query Language (Cypher)\n"
   ]
  },
  {
   "cell_type": "markdown",
   "metadata": {},
   "source": [
    "#### Show me the person Francis I\n",
    "\n",
    "MATCH (p:person {name: \"francis i\"}) RETURN p\n",
    "\n",
    "#### Show me all paintings connect to The Louvre\n",
    "\n",
    "MATCH (x:location {name:\"the louvre\"})-[]-(y:artwork) return x,y\n",
    "\n"
   ]
  }
 ],
 "metadata": {
  "kernelspec": {
   "display_name": ".NET (C#)",
   "language": "C#",
   "name": ".net-csharp"
  },
  "language_info": {
   "name": "python"
  },
  "polyglot_notebook": {
   "kernelInfo": {
    "defaultKernelName": "csharp",
    "items": [
     {
      "aliases": [],
      "name": "csharp"
     }
    ]
   }
  }
 },
 "nbformat": 4,
 "nbformat_minor": 2
}
