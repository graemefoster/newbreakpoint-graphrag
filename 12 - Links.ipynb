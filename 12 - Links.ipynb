{
 "cells": [
  {
   "cell_type": "markdown",
   "metadata": {},
   "source": [
    "### Useful Links\n",
    "\n",
    "[Microsoft GraphRAG](https://github.com/microsoft/graphrag/)\n",
    "[GraphRAG Visualizer](https://noworneverev.github.io/graphrag-visualizer/)\n",
    "[Github Repo](https://github.com/graemefoster/newbreakpoint-graphrag/)\n"
   ]
  }
 ],
 "metadata": {
  "language_info": {
   "name": "python"
  }
 },
 "nbformat": 4,
 "nbformat_minor": 2
}
